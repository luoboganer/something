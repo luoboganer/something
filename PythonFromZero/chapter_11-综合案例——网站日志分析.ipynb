{
 "cells": [
  {
   "cell_type": "markdown",
   "metadata": {},
   "source": [
    "# 1. 数据"
   ]
  },
  {
   "cell_type": "code",
   "execution_count": 2,
   "metadata": {},
   "outputs": [],
   "source": [
    "import numpy as np\n",
    "import pandas as pd\n",
    "import matplotlib.pyplot as plt\n",
    "import apache_log_parser\n",
    "%matplotlib inline"
   ]
  },
  {
   "cell_type": "markdown",
   "metadata": {},
   "source": [
    "## 构造数据"
   ]
  },
  {
   "cell_type": "code",
   "execution_count": 10,
   "metadata": {},
   "outputs": [],
   "source": [
    "fformat='%V %h %l %u %t \\\"%r\\\" %>s %b \\\"%{Referer}i\\\" \\\"%{User-Agent}i\\\" %T'\n",
    "p=apache_log_parser.make_parser(fformat)"
   ]
  },
  {
   "cell_type": "code",
   "execution_count": 12,
   "metadata": {},
   "outputs": [],
   "source": [
    "sample_string='www.oceanographers.ru 109.165.31.156 - - [16/Mar/2013:08:00:25 +0400] \"GET /index.php?option=com_content&task=section&id=30&Itemid=265 HTTP/1.0\" 200 26126 \"-\" \"Mozilla/5.0 (Windows NT 6.1; rv:19.0) Gecko/20100101 Firefox/19.0\" 0\\n'\n",
    "data=p(sample_string)"
   ]
  },
  {
   "cell_type": "code",
   "execution_count": 13,
   "metadata": {},
   "outputs": [
    {
     "data": {
      "text/plain": [
       "{'server_name2': 'www.oceanographers.ru',\n",
       " 'remote_host': '109.165.31.156',\n",
       " 'remote_logname': '-',\n",
       " 'remote_user': '-',\n",
       " 'time_received': '[16/Mar/2013:08:00:25 +0400]',\n",
       " 'time_received_datetimeobj': datetime.datetime(2013, 3, 16, 8, 0, 25),\n",
       " 'time_received_isoformat': '2013-03-16T08:00:25',\n",
       " 'time_received_tz_datetimeobj': datetime.datetime(2013, 3, 16, 8, 0, 25, tzinfo='0400'),\n",
       " 'time_received_tz_isoformat': '2013-03-16T08:00:25+04:00',\n",
       " 'time_received_utc_datetimeobj': datetime.datetime(2013, 3, 16, 4, 0, 25, tzinfo='0000'),\n",
       " 'time_received_utc_isoformat': '2013-03-16T04:00:25+00:00',\n",
       " 'request_first_line': 'GET /index.php?option=com_content&task=section&id=30&Itemid=265 HTTP/1.0',\n",
       " 'request_method': 'GET',\n",
       " 'request_url': '/index.php?option=com_content&task=section&id=30&Itemid=265',\n",
       " 'request_http_ver': '1.0',\n",
       " 'request_url_scheme': '',\n",
       " 'request_url_netloc': '',\n",
       " 'request_url_path': '/index.php',\n",
       " 'request_url_query': 'option=com_content&task=section&id=30&Itemid=265',\n",
       " 'request_url_fragment': '',\n",
       " 'request_url_username': None,\n",
       " 'request_url_password': None,\n",
       " 'request_url_hostname': None,\n",
       " 'request_url_port': None,\n",
       " 'request_url_query_dict': {'option': ['com_content'],\n",
       "  'task': ['section'],\n",
       "  'id': ['30'],\n",
       "  'Itemid': ['265']},\n",
       " 'request_url_query_list': [('option', 'com_content'),\n",
       "  ('task', 'section'),\n",
       "  ('id', '30'),\n",
       "  ('Itemid', '265')],\n",
       " 'request_url_query_simple_dict': {'option': 'com_content',\n",
       "  'task': 'section',\n",
       "  'id': '30',\n",
       "  'Itemid': '265'},\n",
       " 'status': '200',\n",
       " 'response_bytes_clf': '26126',\n",
       " 'request_header_referer': '-',\n",
       " 'request_header_user_agent': 'Mozilla/5.0 (Windows NT 6.1; rv:19.0) Gecko/20100101 Firefox/19.0',\n",
       " 'request_header_user_agent__browser__family': 'Firefox',\n",
       " 'request_header_user_agent__browser__version_string': '19.0',\n",
       " 'request_header_user_agent__os__family': 'Windows',\n",
       " 'request_header_user_agent__os__version_string': '7',\n",
       " 'request_header_user_agent__is_mobile': False,\n",
       " 'time_s': ''}"
      ]
     },
     "execution_count": 13,
     "metadata": {},
     "output_type": "execute_result"
    }
   ],
   "source": [
    "data"
   ]
  },
  {
   "cell_type": "code",
   "execution_count": 14,
   "metadata": {},
   "outputs": [],
   "source": [
    "log_list=[]\n",
    "datas=open(\"./data/apache_access_log\").readlines()\n",
    "for line in datas:\n",
    "    data=p(line)\n",
    "    data[\"time_received\"]=data[\"time_received\"][1:12]+' '+data[\"time_received\"][13:21]+' '+data[\"time_received\"][22:27]\n",
    "    log_list.append(data)\n",
    "log=pd.DataFrame(log_list)\n",
    "log=log[[\"status\",\"response_bytes_clf\",\"remote_host\",\"request_first_line\",\"time_received\"]]"
   ]
  },
  {
   "cell_type": "code",
   "execution_count": 15,
   "metadata": {},
   "outputs": [
    {
     "data": {
      "text/html": [
       "<div>\n",
       "<style scoped>\n",
       "    .dataframe tbody tr th:only-of-type {\n",
       "        vertical-align: middle;\n",
       "    }\n",
       "\n",
       "    .dataframe tbody tr th {\n",
       "        vertical-align: top;\n",
       "    }\n",
       "\n",
       "    .dataframe thead th {\n",
       "        text-align: right;\n",
       "    }\n",
       "</style>\n",
       "<table border=\"1\" class=\"dataframe\">\n",
       "  <thead>\n",
       "    <tr style=\"text-align: right;\">\n",
       "      <th></th>\n",
       "      <th>status</th>\n",
       "      <th>response_bytes_clf</th>\n",
       "      <th>remote_host</th>\n",
       "      <th>request_first_line</th>\n",
       "      <th>time_received</th>\n",
       "    </tr>\n",
       "  </thead>\n",
       "  <tbody>\n",
       "    <tr>\n",
       "      <th>0</th>\n",
       "      <td>200</td>\n",
       "      <td>26126</td>\n",
       "      <td>109.165.31.156</td>\n",
       "      <td>GET /index.php?option=com_content&amp;task=section...</td>\n",
       "      <td>16/Mar/2013 08:00:25 +0400</td>\n",
       "    </tr>\n",
       "    <tr>\n",
       "      <th>1</th>\n",
       "      <td>200</td>\n",
       "      <td>10532</td>\n",
       "      <td>109.165.31.156</td>\n",
       "      <td>GET /templates/ja_procyon/css/template_css.css...</td>\n",
       "      <td>16/Mar/2013 08:00:25 +0400</td>\n",
       "    </tr>\n",
       "    <tr>\n",
       "      <th>2</th>\n",
       "      <td>200</td>\n",
       "      <td>1853</td>\n",
       "      <td>109.165.31.156</td>\n",
       "      <td>GET /templates/ja_procyon/switcher.js HTTP/1.0</td>\n",
       "      <td>16/Mar/2013 08:00:25 +0400</td>\n",
       "    </tr>\n",
       "    <tr>\n",
       "      <th>3</th>\n",
       "      <td>200</td>\n",
       "      <td>37153</td>\n",
       "      <td>109.165.31.156</td>\n",
       "      <td>GET /includes/js/overlib_mini.js HTTP/1.0</td>\n",
       "      <td>16/Mar/2013 08:00:25 +0400</td>\n",
       "    </tr>\n",
       "    <tr>\n",
       "      <th>4</th>\n",
       "      <td>200</td>\n",
       "      <td>3978</td>\n",
       "      <td>109.165.31.156</td>\n",
       "      <td>GET /modules/ja_transmenu/transmenuh.css HTTP/1.0</td>\n",
       "      <td>16/Mar/2013 08:00:25 +0400</td>\n",
       "    </tr>\n",
       "  </tbody>\n",
       "</table>\n",
       "</div>"
      ],
      "text/plain": [
       "  status response_bytes_clf     remote_host  \\\n",
       "0    200              26126  109.165.31.156   \n",
       "1    200              10532  109.165.31.156   \n",
       "2    200               1853  109.165.31.156   \n",
       "3    200              37153  109.165.31.156   \n",
       "4    200               3978  109.165.31.156   \n",
       "\n",
       "                                  request_first_line  \\\n",
       "0  GET /index.php?option=com_content&task=section...   \n",
       "1  GET /templates/ja_procyon/css/template_css.css...   \n",
       "2     GET /templates/ja_procyon/switcher.js HTTP/1.0   \n",
       "3          GET /includes/js/overlib_mini.js HTTP/1.0   \n",
       "4  GET /modules/ja_transmenu/transmenuh.css HTTP/1.0   \n",
       "\n",
       "                time_received  \n",
       "0  16/Mar/2013 08:00:25 +0400  \n",
       "1  16/Mar/2013 08:00:25 +0400  \n",
       "2  16/Mar/2013 08:00:25 +0400  \n",
       "3  16/Mar/2013 08:00:25 +0400  \n",
       "4  16/Mar/2013 08:00:25 +0400  "
      ]
     },
     "execution_count": 15,
     "metadata": {},
     "output_type": "execute_result"
    }
   ],
   "source": [
    "log.head()"
   ]
  },
  {
   "cell_type": "markdown",
   "metadata": {},
   "source": [
    "## 数据清洗"
   ]
  },
  {
   "cell_type": "code",
   "execution_count": 16,
   "metadata": {},
   "outputs": [
    {
     "data": {
      "text/plain": [
       "status                0\n",
       "response_bytes_clf    0\n",
       "remote_host           0\n",
       "request_first_line    0\n",
       "time_received         0\n",
       "dtype: int64"
      ]
     },
     "execution_count": 16,
     "metadata": {},
     "output_type": "execute_result"
    }
   ],
   "source": [
    "log.isnull().sum()"
   ]
  },
  {
   "cell_type": "code",
   "execution_count": 17,
   "metadata": {},
   "outputs": [
    {
     "name": "stdout",
     "output_type": "stream",
     "text": [
      "<class 'pandas.core.frame.DataFrame'>\n",
      "RangeIndex: 6634 entries, 0 to 6633\n",
      "Data columns (total 5 columns):\n",
      "status                6634 non-null object\n",
      "response_bytes_clf    6634 non-null object\n",
      "remote_host           6634 non-null object\n",
      "request_first_line    6634 non-null object\n",
      "time_received         6634 non-null object\n",
      "dtypes: object(5)\n",
      "memory usage: 259.2+ KB\n"
     ]
    }
   ],
   "source": [
    "log.info()"
   ]
  },
  {
   "cell_type": "code",
   "execution_count": 19,
   "metadata": {},
   "outputs": [],
   "source": [
    "log[\"time_received\"]=pd.to_datetime(log[\"time_received\"])\n",
    "log.set_index(\"time_received\",inplace=True)"
   ]
  },
  {
   "cell_type": "code",
   "execution_count": 20,
   "metadata": {},
   "outputs": [
    {
     "data": {
      "text/html": [
       "<div>\n",
       "<style scoped>\n",
       "    .dataframe tbody tr th:only-of-type {\n",
       "        vertical-align: middle;\n",
       "    }\n",
       "\n",
       "    .dataframe tbody tr th {\n",
       "        vertical-align: top;\n",
       "    }\n",
       "\n",
       "    .dataframe thead th {\n",
       "        text-align: right;\n",
       "    }\n",
       "</style>\n",
       "<table border=\"1\" class=\"dataframe\">\n",
       "  <thead>\n",
       "    <tr style=\"text-align: right;\">\n",
       "      <th></th>\n",
       "      <th>status</th>\n",
       "      <th>response_bytes_clf</th>\n",
       "      <th>remote_host</th>\n",
       "      <th>request_first_line</th>\n",
       "    </tr>\n",
       "    <tr>\n",
       "      <th>time_received</th>\n",
       "      <th></th>\n",
       "      <th></th>\n",
       "      <th></th>\n",
       "      <th></th>\n",
       "    </tr>\n",
       "  </thead>\n",
       "  <tbody>\n",
       "    <tr>\n",
       "      <th>2013-03-16 04:00:25</th>\n",
       "      <td>200</td>\n",
       "      <td>26126</td>\n",
       "      <td>109.165.31.156</td>\n",
       "      <td>GET /index.php?option=com_content&amp;task=section...</td>\n",
       "    </tr>\n",
       "    <tr>\n",
       "      <th>2013-03-16 04:00:25</th>\n",
       "      <td>200</td>\n",
       "      <td>10532</td>\n",
       "      <td>109.165.31.156</td>\n",
       "      <td>GET /templates/ja_procyon/css/template_css.css...</td>\n",
       "    </tr>\n",
       "    <tr>\n",
       "      <th>2013-03-16 04:00:25</th>\n",
       "      <td>200</td>\n",
       "      <td>1853</td>\n",
       "      <td>109.165.31.156</td>\n",
       "      <td>GET /templates/ja_procyon/switcher.js HTTP/1.0</td>\n",
       "    </tr>\n",
       "    <tr>\n",
       "      <th>2013-03-16 04:00:25</th>\n",
       "      <td>200</td>\n",
       "      <td>37153</td>\n",
       "      <td>109.165.31.156</td>\n",
       "      <td>GET /includes/js/overlib_mini.js HTTP/1.0</td>\n",
       "    </tr>\n",
       "    <tr>\n",
       "      <th>2013-03-16 04:00:25</th>\n",
       "      <td>200</td>\n",
       "      <td>3978</td>\n",
       "      <td>109.165.31.156</td>\n",
       "      <td>GET /modules/ja_transmenu/transmenuh.css HTTP/1.0</td>\n",
       "    </tr>\n",
       "  </tbody>\n",
       "</table>\n",
       "</div>"
      ],
      "text/plain": [
       "                    status response_bytes_clf     remote_host  \\\n",
       "time_received                                                   \n",
       "2013-03-16 04:00:25    200              26126  109.165.31.156   \n",
       "2013-03-16 04:00:25    200              10532  109.165.31.156   \n",
       "2013-03-16 04:00:25    200               1853  109.165.31.156   \n",
       "2013-03-16 04:00:25    200              37153  109.165.31.156   \n",
       "2013-03-16 04:00:25    200               3978  109.165.31.156   \n",
       "\n",
       "                                                    request_first_line  \n",
       "time_received                                                           \n",
       "2013-03-16 04:00:25  GET /index.php?option=com_content&task=section...  \n",
       "2013-03-16 04:00:25  GET /templates/ja_procyon/css/template_css.css...  \n",
       "2013-03-16 04:00:25     GET /templates/ja_procyon/switcher.js HTTP/1.0  \n",
       "2013-03-16 04:00:25          GET /includes/js/overlib_mini.js HTTP/1.0  \n",
       "2013-03-16 04:00:25  GET /modules/ja_transmenu/transmenuh.css HTTP/1.0  "
      ]
     },
     "execution_count": 20,
     "metadata": {},
     "output_type": "execute_result"
    }
   ],
   "source": [
    "log.head()"
   ]
  },
  {
   "cell_type": "code",
   "execution_count": 21,
   "metadata": {},
   "outputs": [],
   "source": [
    "log[\"status\"]=log.status.astype(np.int64)"
   ]
  },
  {
   "cell_type": "code",
   "execution_count": 23,
   "metadata": {},
   "outputs": [],
   "source": [
    "# 对于response_bytes_clf字段将-替换为确实值np.nan，并将单位从字节（bytes）转换为兆字节（MB）\n",
    "def dash2nan(x):\n",
    "    if x==\"-\":\n",
    "        x=np.nan\n",
    "    else:\n",
    "        x=float(x)/(2**20)\n",
    "    return x\n",
    "log[\"response_bytes_clf\"]=log.response_bytes_clf.map(dash2nan)"
   ]
  },
  {
   "cell_type": "code",
   "execution_count": 24,
   "metadata": {},
   "outputs": [
    {
     "data": {
      "text/html": [
       "<div>\n",
       "<style scoped>\n",
       "    .dataframe tbody tr th:only-of-type {\n",
       "        vertical-align: middle;\n",
       "    }\n",
       "\n",
       "    .dataframe tbody tr th {\n",
       "        vertical-align: top;\n",
       "    }\n",
       "\n",
       "    .dataframe thead th {\n",
       "        text-align: right;\n",
       "    }\n",
       "</style>\n",
       "<table border=\"1\" class=\"dataframe\">\n",
       "  <thead>\n",
       "    <tr style=\"text-align: right;\">\n",
       "      <th></th>\n",
       "      <th>status</th>\n",
       "      <th>response_bytes_clf</th>\n",
       "      <th>remote_host</th>\n",
       "      <th>request_first_line</th>\n",
       "    </tr>\n",
       "    <tr>\n",
       "      <th>time_received</th>\n",
       "      <th></th>\n",
       "      <th></th>\n",
       "      <th></th>\n",
       "      <th></th>\n",
       "    </tr>\n",
       "  </thead>\n",
       "  <tbody>\n",
       "    <tr>\n",
       "      <th>2013-03-16 04:00:25</th>\n",
       "      <td>200</td>\n",
       "      <td>0.024916</td>\n",
       "      <td>109.165.31.156</td>\n",
       "      <td>GET /index.php?option=com_content&amp;task=section...</td>\n",
       "    </tr>\n",
       "    <tr>\n",
       "      <th>2013-03-16 04:00:25</th>\n",
       "      <td>200</td>\n",
       "      <td>0.010044</td>\n",
       "      <td>109.165.31.156</td>\n",
       "      <td>GET /templates/ja_procyon/css/template_css.css...</td>\n",
       "    </tr>\n",
       "    <tr>\n",
       "      <th>2013-03-16 04:00:25</th>\n",
       "      <td>200</td>\n",
       "      <td>0.001767</td>\n",
       "      <td>109.165.31.156</td>\n",
       "      <td>GET /templates/ja_procyon/switcher.js HTTP/1.0</td>\n",
       "    </tr>\n",
       "    <tr>\n",
       "      <th>2013-03-16 04:00:25</th>\n",
       "      <td>200</td>\n",
       "      <td>0.035432</td>\n",
       "      <td>109.165.31.156</td>\n",
       "      <td>GET /includes/js/overlib_mini.js HTTP/1.0</td>\n",
       "    </tr>\n",
       "    <tr>\n",
       "      <th>2013-03-16 04:00:25</th>\n",
       "      <td>200</td>\n",
       "      <td>0.003794</td>\n",
       "      <td>109.165.31.156</td>\n",
       "      <td>GET /modules/ja_transmenu/transmenuh.css HTTP/1.0</td>\n",
       "    </tr>\n",
       "  </tbody>\n",
       "</table>\n",
       "</div>"
      ],
      "text/plain": [
       "                     status  response_bytes_clf     remote_host  \\\n",
       "time_received                                                     \n",
       "2013-03-16 04:00:25     200            0.024916  109.165.31.156   \n",
       "2013-03-16 04:00:25     200            0.010044  109.165.31.156   \n",
       "2013-03-16 04:00:25     200            0.001767  109.165.31.156   \n",
       "2013-03-16 04:00:25     200            0.035432  109.165.31.156   \n",
       "2013-03-16 04:00:25     200            0.003794  109.165.31.156   \n",
       "\n",
       "                                                    request_first_line  \n",
       "time_received                                                           \n",
       "2013-03-16 04:00:25  GET /index.php?option=com_content&task=section...  \n",
       "2013-03-16 04:00:25  GET /templates/ja_procyon/css/template_css.css...  \n",
       "2013-03-16 04:00:25     GET /templates/ja_procyon/switcher.js HTTP/1.0  \n",
       "2013-03-16 04:00:25          GET /includes/js/overlib_mini.js HTTP/1.0  \n",
       "2013-03-16 04:00:25  GET /modules/ja_transmenu/transmenuh.css HTTP/1.0  "
      ]
     },
     "execution_count": 24,
     "metadata": {},
     "output_type": "execute_result"
    }
   ],
   "source": [
    "log.head()"
   ]
  },
  {
   "cell_type": "markdown",
   "metadata": {},
   "source": [
    "# 2. 分析"
   ]
  },
  {
   "cell_type": "markdown",
   "metadata": {},
   "source": [
    "## 网站流量分析"
   ]
  },
  {
   "cell_type": "code",
   "execution_count": 25,
   "metadata": {},
   "outputs": [
    {
     "data": {
      "image/png": "[encoded data removed]",
      "text/plain": [
       "<Figure size 432x288 with 1 Axes>"
      ]
     },
     "metadata": {},
     "output_type": "display_data"
    }
   ],
   "source": [
    "log[\"response_bytes_clf\"].plot()\n",
    "plt.show()"
   ]
  },
  {
   "cell_type": "code",
   "execution_count": 26,
   "metadata": {},
   "outputs": [
    {
     "data": {
      "text/html": [
       "<div>\n",
       "<style scoped>\n",
       "    .dataframe tbody tr th:only-of-type {\n",
       "        vertical-align: middle;\n",
       "    }\n",
       "\n",
       "    .dataframe tbody tr th {\n",
       "        vertical-align: top;\n",
       "    }\n",
       "\n",
       "    .dataframe thead th {\n",
       "        text-align: right;\n",
       "    }\n",
       "</style>\n",
       "<table border=\"1\" class=\"dataframe\">\n",
       "  <thead>\n",
       "    <tr style=\"text-align: right;\">\n",
       "      <th></th>\n",
       "      <th>status</th>\n",
       "      <th>response_bytes_clf</th>\n",
       "      <th>remote_host</th>\n",
       "      <th>request_first_line</th>\n",
       "    </tr>\n",
       "    <tr>\n",
       "      <th>time_received</th>\n",
       "      <th></th>\n",
       "      <th></th>\n",
       "      <th></th>\n",
       "      <th></th>\n",
       "    </tr>\n",
       "  </thead>\n",
       "  <tbody>\n",
       "    <tr>\n",
       "      <th>2013-03-16 05:02:59</th>\n",
       "      <td>200</td>\n",
       "      <td>21.365701</td>\n",
       "      <td>77.50.248.20</td>\n",
       "      <td>GET /books/Bondarenko.pdf HTTP/1.0</td>\n",
       "    </tr>\n",
       "  </tbody>\n",
       "</table>\n",
       "</div>"
      ],
      "text/plain": [
       "                     status  response_bytes_clf   remote_host  \\\n",
       "time_received                                                   \n",
       "2013-03-16 05:02:59     200           21.365701  77.50.248.20   \n",
       "\n",
       "                                     request_first_line  \n",
       "time_received                                            \n",
       "2013-03-16 05:02:59  GET /books/Bondarenko.pdf HTTP/1.0  "
      ]
     },
     "execution_count": 26,
     "metadata": {},
     "output_type": "execute_result"
    }
   ],
   "source": [
    "# 从上图可以看到有一个流量峰值出现，查看这条特殊数据\n",
    "log[log[\"response_bytes_clf\"]>20]\n",
    "# 从这条数据可以看出下载了一个pdf文件造成了大流量"
   ]
  },
  {
   "cell_type": "code",
   "execution_count": 29,
   "metadata": {},
   "outputs": [
    {
     "data": {
      "image/png": "[encoded data removed]",
      "text/plain": [
       "<Figure size 432x288 with 1 Axes>"
      ]
     },
     "metadata": {},
     "output_type": "display_data"
    }
   ],
   "source": [
    "# 对时间以30分钟为单位进行重采样\n",
    "t_log=log[\"response_bytes_clf\"].resample(\"30min\").count()\n",
    "t_log.plot()\n",
    "plt.show()"
   ]
  },
  {
   "cell_type": "code",
   "execution_count": 30,
   "metadata": {},
   "outputs": [
    {
     "data": {
      "image/png": "[encoded data removed]",
      "text/plain": [
       "<Figure size 432x288 with 1 Axes>"
      ]
     },
     "metadata": {},
     "output_type": "display_data"
    }
   ],
   "source": [
    "# 降低采样频率，以小时为单位采样\n",
    "h_log=log[\"response_bytes_clf\"].resample(\"H\").count()\n",
    "h_log.plot()\n",
    "plt.show()\n",
    "# 可以看到在低评率下采样的波动已经不明显"
   ]
  },
  {
   "cell_type": "code",
   "execution_count": 31,
   "metadata": {},
   "outputs": [],
   "source": [
    "d_log=pd.DataFrame({\"count\":log[\"response_bytes_clf\"].resample(\"10min\").count(),\n",
    "                   \"sum\":log[\"response_bytes_clf\"].resample(\"10min\").sum()})"
   ]
  },
  {
   "cell_type": "code",
   "execution_count": 34,
   "metadata": {},
   "outputs": [
    {
     "data": {
      "text/html": [
       "<div>\n",
       "<style scoped>\n",
       "    .dataframe tbody tr th:only-of-type {\n",
       "        vertical-align: middle;\n",
       "    }\n",
       "\n",
       "    .dataframe tbody tr th {\n",
       "        vertical-align: top;\n",
       "    }\n",
       "\n",
       "    .dataframe thead th {\n",
       "        text-align: right;\n",
       "    }\n",
       "</style>\n",
       "<table border=\"1\" class=\"dataframe\">\n",
       "  <thead>\n",
       "    <tr style=\"text-align: right;\">\n",
       "      <th></th>\n",
       "      <th>count</th>\n",
       "      <th>sum</th>\n",
       "    </tr>\n",
       "    <tr>\n",
       "      <th>time_received</th>\n",
       "      <th></th>\n",
       "      <th></th>\n",
       "    </tr>\n",
       "  </thead>\n",
       "  <tbody>\n",
       "    <tr>\n",
       "      <th>2013-03-16 04:00:00</th>\n",
       "      <td>59</td>\n",
       "      <td>6.957677</td>\n",
       "    </tr>\n",
       "    <tr>\n",
       "      <th>2013-03-16 04:10:00</th>\n",
       "      <td>35</td>\n",
       "      <td>0.929472</td>\n",
       "    </tr>\n",
       "    <tr>\n",
       "      <th>2013-03-16 04:20:00</th>\n",
       "      <td>31</td>\n",
       "      <td>0.771323</td>\n",
       "    </tr>\n",
       "    <tr>\n",
       "      <th>2013-03-16 04:30:00</th>\n",
       "      <td>35</td>\n",
       "      <td>0.771191</td>\n",
       "    </tr>\n",
       "    <tr>\n",
       "      <th>2013-03-16 04:40:00</th>\n",
       "      <td>38</td>\n",
       "      <td>0.943575</td>\n",
       "    </tr>\n",
       "  </tbody>\n",
       "</table>\n",
       "</div>"
      ],
      "text/plain": [
       "                     count       sum\n",
       "time_received                       \n",
       "2013-03-16 04:00:00     59  6.957677\n",
       "2013-03-16 04:10:00     35  0.929472\n",
       "2013-03-16 04:20:00     31  0.771323\n",
       "2013-03-16 04:30:00     35  0.771191\n",
       "2013-03-16 04:40:00     38  0.943575"
      ]
     },
     "execution_count": 34,
     "metadata": {},
     "output_type": "execute_result"
    }
   ],
   "source": [
    "d_log.head()"
   ]
  },
  {
   "cell_type": "code",
   "execution_count": 35,
   "metadata": {},
   "outputs": [
    {
     "data": {
      "image/png": "[encoded data removed]",
      "text/plain": [
       "<Figure size 720x432 with 2 Axes>"
      ]
     },
     "metadata": {},
     "output_type": "display_data"
    }
   ],
   "source": [
    "plt.figure(figsize=(10,6))\n",
    "ax1=plt.subplot(1,1,1)\n",
    "ax2=ax1.twinx()\n",
    "ax1.plot(d_log[\"count\"],color=\"r\",label=\"count\")\n",
    "ax1.legend(loc=2)\n",
    "ax2.plot(d_log[\"sum\"],label=\"sum\")\n",
    "ax2.legend(loc=0)\n",
    "plt.show()\n",
    "# 从图中可以看出流量和访问次数有关系"
   ]
  },
  {
   "cell_type": "code",
   "execution_count": 48,
   "metadata": {},
   "outputs": [
    {
     "data": {
      "text/html": [
       "<div>\n",
       "<style scoped>\n",
       "    .dataframe tbody tr th:only-of-type {\n",
       "        vertical-align: middle;\n",
       "    }\n",
       "\n",
       "    .dataframe tbody tr th {\n",
       "        vertical-align: top;\n",
       "    }\n",
       "\n",
       "    .dataframe thead th {\n",
       "        text-align: right;\n",
       "    }\n",
       "</style>\n",
       "<table border=\"1\" class=\"dataframe\">\n",
       "  <thead>\n",
       "    <tr style=\"text-align: right;\">\n",
       "      <th></th>\n",
       "      <th>count</th>\n",
       "      <th>sum</th>\n",
       "    </tr>\n",
       "  </thead>\n",
       "  <tbody>\n",
       "    <tr>\n",
       "      <th>count</th>\n",
       "      <td>1.000000</td>\n",
       "      <td>0.512629</td>\n",
       "    </tr>\n",
       "    <tr>\n",
       "      <th>sum</th>\n",
       "      <td>0.512629</td>\n",
       "      <td>1.000000</td>\n",
       "    </tr>\n",
       "  </tbody>\n",
       "</table>\n",
       "</div>"
      ],
      "text/plain": [
       "          count       sum\n",
       "count  1.000000  0.512629\n",
       "sum    0.512629  1.000000"
      ]
     },
     "execution_count": 48,
     "metadata": {},
     "output_type": "execute_result"
    }
   ],
   "source": [
    "# 计算相关系数\n",
    "d_log.corr()"
   ]
  },
  {
   "cell_type": "markdown",
   "metadata": {},
   "source": [
    "## 状态码分析"
   ]
  },
  {
   "cell_type": "code",
   "execution_count": 37,
   "metadata": {},
   "outputs": [],
   "source": [
    "status_log=log.groupby(\"status\")[\"remote_host\"].count()"
   ]
  },
  {
   "cell_type": "code",
   "execution_count": 38,
   "metadata": {},
   "outputs": [
    {
     "data": {
      "text/plain": [
       "status\n",
       "200    5606\n",
       "206      11\n",
       "301     629\n",
       "302       6\n",
       "304      75\n",
       "400       1\n",
       "403     247\n",
       "404      59\n",
       "Name: remote_host, dtype: int64"
      ]
     },
     "execution_count": 38,
     "metadata": {},
     "output_type": "execute_result"
    }
   ],
   "source": [
    "status_log"
   ]
  },
  {
   "cell_type": "code",
   "execution_count": 39,
   "metadata": {},
   "outputs": [
    {
     "data": {
      "text/plain": [
       "<matplotlib.axes._subplots.AxesSubplot at 0x1fc74310dd8>"
      ]
     },
     "execution_count": 39,
     "metadata": {},
     "output_type": "execute_result"
    },
    {
     "data": {
      "image/png": "[encoded data removed]",
      "text/plain": [
       "<Figure size 432x288 with 1 Axes>"
      ]
     },
     "metadata": {},
     "output_type": "display_data"
    }
   ],
   "source": [
    "status_log.plot(kind=\"bar\")\n",
    "# 可以看到绝大多数访问都是正常的"
   ]
  },
  {
   "cell_type": "code",
   "execution_count": 40,
   "metadata": {},
   "outputs": [],
   "source": [
    "log_404=log[\"status\"][log['status']==404].resample(\"2H\").count()\n",
    "log_403=log[\"status\"][log['status']==403].resample(\"2H\").count()\n",
    "log_200=log[\"status\"][log['status']==200].resample(\"2H\").count()"
   ]
  },
  {
   "cell_type": "code",
   "execution_count": 41,
   "metadata": {},
   "outputs": [],
   "source": [
    "new_log=pd.DataFrame({\"Not Found\":log_404,\n",
    "                     \"Forbidden\":log_403,\n",
    "                     \"Success\":log_200})"
   ]
  },
  {
   "cell_type": "code",
   "execution_count": 42,
   "metadata": {},
   "outputs": [
    {
     "data": {
      "text/html": [
       "<div>\n",
       "<style scoped>\n",
       "    .dataframe tbody tr th:only-of-type {\n",
       "        vertical-align: middle;\n",
       "    }\n",
       "\n",
       "    .dataframe tbody tr th {\n",
       "        vertical-align: top;\n",
       "    }\n",
       "\n",
       "    .dataframe thead th {\n",
       "        text-align: right;\n",
       "    }\n",
       "</style>\n",
       "<table border=\"1\" class=\"dataframe\">\n",
       "  <thead>\n",
       "    <tr style=\"text-align: right;\">\n",
       "      <th></th>\n",
       "      <th>Not Found</th>\n",
       "      <th>Forbidden</th>\n",
       "      <th>Success</th>\n",
       "    </tr>\n",
       "    <tr>\n",
       "      <th>time_received</th>\n",
       "      <th></th>\n",
       "      <th></th>\n",
       "      <th></th>\n",
       "    </tr>\n",
       "  </thead>\n",
       "  <tbody>\n",
       "    <tr>\n",
       "      <th>2013-03-16 04:00:00</th>\n",
       "      <td>3</td>\n",
       "      <td>22</td>\n",
       "      <td>375</td>\n",
       "    </tr>\n",
       "    <tr>\n",
       "      <th>2013-03-16 06:00:00</th>\n",
       "      <td>2</td>\n",
       "      <td>26</td>\n",
       "      <td>607</td>\n",
       "    </tr>\n",
       "    <tr>\n",
       "      <th>2013-03-16 08:00:00</th>\n",
       "      <td>2</td>\n",
       "      <td>45</td>\n",
       "      <td>780</td>\n",
       "    </tr>\n",
       "    <tr>\n",
       "      <th>2013-03-16 10:00:00</th>\n",
       "      <td>4</td>\n",
       "      <td>29</td>\n",
       "      <td>699</td>\n",
       "    </tr>\n",
       "    <tr>\n",
       "      <th>2013-03-16 12:00:00</th>\n",
       "      <td>5</td>\n",
       "      <td>27</td>\n",
       "      <td>886</td>\n",
       "    </tr>\n",
       "    <tr>\n",
       "      <th>2013-03-16 14:00:00</th>\n",
       "      <td>21</td>\n",
       "      <td>42</td>\n",
       "      <td>785</td>\n",
       "    </tr>\n",
       "    <tr>\n",
       "      <th>2013-03-16 16:00:00</th>\n",
       "      <td>14</td>\n",
       "      <td>16</td>\n",
       "      <td>757</td>\n",
       "    </tr>\n",
       "    <tr>\n",
       "      <th>2013-03-16 18:00:00</th>\n",
       "      <td>6</td>\n",
       "      <td>38</td>\n",
       "      <td>669</td>\n",
       "    </tr>\n",
       "    <tr>\n",
       "      <th>2013-03-16 20:00:00</th>\n",
       "      <td>2</td>\n",
       "      <td>2</td>\n",
       "      <td>48</td>\n",
       "    </tr>\n",
       "  </tbody>\n",
       "</table>\n",
       "</div>"
      ],
      "text/plain": [
       "                     Not Found  Forbidden  Success\n",
       "time_received                                     \n",
       "2013-03-16 04:00:00          3         22      375\n",
       "2013-03-16 06:00:00          2         26      607\n",
       "2013-03-16 08:00:00          2         45      780\n",
       "2013-03-16 10:00:00          4         29      699\n",
       "2013-03-16 12:00:00          5         27      886\n",
       "2013-03-16 14:00:00         21         42      785\n",
       "2013-03-16 16:00:00         14         16      757\n",
       "2013-03-16 18:00:00          6         38      669\n",
       "2013-03-16 20:00:00          2          2       48"
      ]
     },
     "execution_count": 42,
     "metadata": {},
     "output_type": "execute_result"
    }
   ],
   "source": [
    "new_log"
   ]
  },
  {
   "cell_type": "code",
   "execution_count": 44,
   "metadata": {},
   "outputs": [
    {
     "data": {
      "image/png": "[encoded data removed]",
      "text/plain": [
       "<Figure size 720x216 with 1 Axes>"
      ]
     },
     "metadata": {},
     "output_type": "display_data"
    }
   ],
   "source": [
    "new_log.plot(figsize=(10,3))\n",
    "plt.show()"
   ]
  },
  {
   "cell_type": "code",
   "execution_count": 46,
   "metadata": {},
   "outputs": [
    {
     "data": {
      "image/png": "[encoded data removed]",
      "text/plain": [
       "<Figure size 720x504 with 1 Axes>"
      ]
     },
     "metadata": {},
     "output_type": "display_data"
    }
   ],
   "source": [
    "new_log.plot(kind=\"barh\",stacked=True,figsize=(10,7))\n",
    "plt.show()"
   ]
  },
  {
   "cell_type": "markdown",
   "metadata": {},
   "source": [
    "## IP分析"
   ]
  },
  {
   "cell_type": "code",
   "execution_count": 53,
   "metadata": {},
   "outputs": [
    {
     "data": {
      "image/png": "[encoded data removed]",
      "text/plain": [
       "<Figure size 720x504 with 1 Axes>"
      ]
     },
     "metadata": {},
     "output_type": "display_data"
    }
   ],
   "source": [
    "# 选取访问量前十位的IP绘制柱状图\n",
    "ip_count=log[\"remote_host\"].value_counts()[:10]\n",
    "ip_count.plot(kind=\"barh\",figsize=(10,7))\n",
    "plt.show()"
   ]
  },
  {
   "cell_type": "code",
   "execution_count": 94,
   "metadata": {},
   "outputs": [],
   "source": [
    "# pygeoip可以将ip地址解析为地理信息\n",
    "import pygeoip\n",
    "\n",
    "gi=pygeoip.GeoIP(\"./data/GeoLiteCity.dat\",pygeoip.MEMORY_CACHE)\n",
    "info=gi.record_by_addr(\"64.233.161.99\")"
   ]
  },
  {
   "cell_type": "code",
   "execution_count": 95,
   "metadata": {},
   "outputs": [
    {
     "data": {
      "text/plain": [
       "{'dma_code': 807,\n",
       " 'area_code': 650,\n",
       " 'metro_code': 'San Francisco, CA',\n",
       " 'postal_code': '94043',\n",
       " 'country_code': 'US',\n",
       " 'country_code3': 'USA',\n",
       " 'country_name': 'United States',\n",
       " 'continent': 'NA',\n",
       " 'region_code': 'CA',\n",
       " 'city': 'Mountain View',\n",
       " 'latitude': 37.41919999999999,\n",
       " 'longitude': -122.0574,\n",
       " 'time_zone': 'America/Los_Angeles'}"
      ]
     },
     "execution_count": 95,
     "metadata": {},
     "output_type": "execute_result"
    }
   ],
   "source": [
    "info"
   ]
  },
  {
   "cell_type": "code",
   "execution_count": 212,
   "metadata": {},
   "outputs": [],
   "source": [
    "# 通过IP进行分组统计\n",
    "ips=log.groupby(\"remote_host\")[\"status\"].agg([(\"count_status\",\"count\")])\n",
    "# 后验结果证明此条IP解析不到地址\n",
    "ips.drop(\"91.224.246.183\",inplace=True)\n",
    "ips=pd.DataFrame(ips)\n",
    "ips.reset_index(inplace=True)"
   ]
  },
  {
   "cell_type": "code",
   "execution_count": 214,
   "metadata": {},
   "outputs": [
    {
     "data": {
      "text/plain": [
       "(430, 2)"
      ]
     },
     "execution_count": 214,
     "metadata": {},
     "output_type": "execute_result"
    }
   ],
   "source": [
    "ips.shape"
   ]
  },
  {
   "cell_type": "code",
   "execution_count": 215,
   "metadata": {},
   "outputs": [
    {
     "data": {
      "text/html": [
       "<div>\n",
       "<style scoped>\n",
       "    .dataframe tbody tr th:only-of-type {\n",
       "        vertical-align: middle;\n",
       "    }\n",
       "\n",
       "    .dataframe tbody tr th {\n",
       "        vertical-align: top;\n",
       "    }\n",
       "\n",
       "    .dataframe thead th {\n",
       "        text-align: right;\n",
       "    }\n",
       "</style>\n",
       "<table border=\"1\" class=\"dataframe\">\n",
       "  <thead>\n",
       "    <tr style=\"text-align: right;\">\n",
       "      <th></th>\n",
       "      <th>remote_host</th>\n",
       "      <th>count_status</th>\n",
       "    </tr>\n",
       "  </thead>\n",
       "  <tbody>\n",
       "    <tr>\n",
       "      <th>0</th>\n",
       "      <td>100.44.124.8</td>\n",
       "      <td>26</td>\n",
       "    </tr>\n",
       "    <tr>\n",
       "      <th>1</th>\n",
       "      <td>108.171.252.242</td>\n",
       "      <td>24</td>\n",
       "    </tr>\n",
       "    <tr>\n",
       "      <th>2</th>\n",
       "      <td>109.165.31.156</td>\n",
       "      <td>12</td>\n",
       "    </tr>\n",
       "    <tr>\n",
       "      <th>3</th>\n",
       "      <td>109.171.109.164</td>\n",
       "      <td>4</td>\n",
       "    </tr>\n",
       "    <tr>\n",
       "      <th>4</th>\n",
       "      <td>109.191.82.110</td>\n",
       "      <td>14</td>\n",
       "    </tr>\n",
       "  </tbody>\n",
       "</table>\n",
       "</div>"
      ],
      "text/plain": [
       "       remote_host  count_status\n",
       "0     100.44.124.8            26\n",
       "1  108.171.252.242            24\n",
       "2   109.165.31.156            12\n",
       "3  109.171.109.164             4\n",
       "4   109.191.82.110            14"
      ]
     },
     "execution_count": 215,
     "metadata": {},
     "output_type": "execute_result"
    }
   ],
   "source": [
    "ips.head()"
   ]
  },
  {
   "cell_type": "code",
   "execution_count": 216,
   "metadata": {},
   "outputs": [],
   "source": [
    "ips[\"country\"]=[gi.record_by_addr(i)[\"country_code3\"] for i in ips.remote_host]\n",
    "ips[\"latitude\"]=[gi.record_by_addr(i)[\"latitude\"] for i in ips.remote_host]\n",
    "ips[\"longitude\"]=[gi.record_by_addr(i)[\"longitude\"] for i in ips.remote_host]"
   ]
  },
  {
   "cell_type": "code",
   "execution_count": 217,
   "metadata": {},
   "outputs": [
    {
     "data": {
      "text/html": [
       "<div>\n",
       "<style scoped>\n",
       "    .dataframe tbody tr th:only-of-type {\n",
       "        vertical-align: middle;\n",
       "    }\n",
       "\n",
       "    .dataframe tbody tr th {\n",
       "        vertical-align: top;\n",
       "    }\n",
       "\n",
       "    .dataframe thead th {\n",
       "        text-align: right;\n",
       "    }\n",
       "</style>\n",
       "<table border=\"1\" class=\"dataframe\">\n",
       "  <thead>\n",
       "    <tr style=\"text-align: right;\">\n",
       "      <th></th>\n",
       "      <th>remote_host</th>\n",
       "      <th>count_status</th>\n",
       "      <th>country</th>\n",
       "      <th>latitude</th>\n",
       "      <th>longitude</th>\n",
       "    </tr>\n",
       "  </thead>\n",
       "  <tbody>\n",
       "    <tr>\n",
       "      <th>0</th>\n",
       "      <td>100.44.124.8</td>\n",
       "      <td>26</td>\n",
       "      <td>USA</td>\n",
       "      <td>37.7510</td>\n",
       "      <td>-97.8220</td>\n",
       "    </tr>\n",
       "    <tr>\n",
       "      <th>1</th>\n",
       "      <td>108.171.252.242</td>\n",
       "      <td>24</td>\n",
       "      <td>USA</td>\n",
       "      <td>34.0115</td>\n",
       "      <td>-117.8535</td>\n",
       "    </tr>\n",
       "    <tr>\n",
       "      <th>2</th>\n",
       "      <td>109.165.31.156</td>\n",
       "      <td>12</td>\n",
       "      <td>RUS</td>\n",
       "      <td>47.2364</td>\n",
       "      <td>39.7139</td>\n",
       "    </tr>\n",
       "    <tr>\n",
       "      <th>3</th>\n",
       "      <td>109.171.109.164</td>\n",
       "      <td>4</td>\n",
       "      <td>RUS</td>\n",
       "      <td>55.0415</td>\n",
       "      <td>82.9346</td>\n",
       "    </tr>\n",
       "    <tr>\n",
       "      <th>4</th>\n",
       "      <td>109.191.82.110</td>\n",
       "      <td>14</td>\n",
       "      <td>RUS</td>\n",
       "      <td>55.1544</td>\n",
       "      <td>61.4297</td>\n",
       "    </tr>\n",
       "  </tbody>\n",
       "</table>\n",
       "</div>"
      ],
      "text/plain": [
       "       remote_host  count_status country  latitude  longitude\n",
       "0     100.44.124.8            26     USA   37.7510   -97.8220\n",
       "1  108.171.252.242            24     USA   34.0115  -117.8535\n",
       "2   109.165.31.156            12     RUS   47.2364    39.7139\n",
       "3  109.171.109.164             4     RUS   55.0415    82.9346\n",
       "4   109.191.82.110            14     RUS   55.1544    61.4297"
      ]
     },
     "execution_count": 217,
     "metadata": {},
     "output_type": "execute_result"
    }
   ],
   "source": [
    "ips.head()"
   ]
  },
  {
   "cell_type": "code",
   "execution_count": 227,
   "metadata": {},
   "outputs": [
    {
     "data": {
      "image/png": "[encoded data removed]",
      "text/plain": [
       "<Figure size 432x288 with 1 Axes>"
      ]
     },
     "metadata": {},
     "output_type": "display_data"
    }
   ],
   "source": [
    "country=ips.groupby(\"country\")[\"count_status\"].sum()\n",
    "country=country.sort_values(ascending=False)[:10]\n",
    "country.plot(kind=\"bar\")\n",
    "plt.show()"
   ]
  }
 ],
 "metadata": {
  "kernelspec": {
   "display_name": "Python 3",
   "language": "python",
   "name": "python3"
  }
 },
 "nbformat": 4,
 "nbformat_minor": 2
}
